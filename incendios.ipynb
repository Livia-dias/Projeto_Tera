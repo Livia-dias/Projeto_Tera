{
 "cells": [
  {
   "cell_type": "markdown",
   "metadata": {},
   "source": [
    "## Carregando arquivo de dados climáticos\n",
    "\n",
    "Na tabela existem alguns valores -9999 que são erros de leitura da estação meteorológica que vamos ter que excluir. Aqui transformei estes valores em None/NaN (Not a Number)"
   ]
  },
  {
   "cell_type": "code",
   "execution_count": 1,
   "metadata": {},
   "outputs": [],
   "source": [
    "import pandas as pd\n",
    "clima = pd.read_csv (r'Entrada\\Clima_2012_2021.csv', decimal=\",\", sep=\";\")\n",
    "clima.replace(-9999.0, None, inplace=True)"
   ]
  },
  {
   "cell_type": "markdown",
   "metadata": {},
   "source": [
    "Ajusta nomes das colunas, e também ajusta o formato da coluna de data, convertendo de string para date. Também ordena a tabela pela data."
   ]
  },
  {
   "cell_type": "code",
   "execution_count": 2,
   "metadata": {},
   "outputs": [],
   "source": [
    "clima.columns=['DATA','HORA','PRECIPITACAO','PRESSAO ATMOSFERICA','RADIACAO GLOBAL','TEMPERATURA','PONTO DE ORVALHO','UMIDADE RELATIVA DO AR','VELOCIDADE DO VENTO']\n",
    "clima[\"DATA\"] = pd.to_datetime(clima[\"DATA\"],format=\"%d/%m/%Y\").dt.date\n",
    "clima = clima.sort_values(by=\"DATA\")"
   ]
  },
  {
   "cell_type": "markdown",
   "metadata": {},
   "source": [
    "Agrupa o valor de cada variável por dia, por exemplo, temperatura média do DIA 01/02/2015. Isso porque os valores estão por hora, precisamos deles por dia para fazer as análises já que os focos de incêndios são diários.\n",
    "\n",
    "Também ajusta as colunas e indices da nova tabela."
   ]
  },
  {
   "cell_type": "code",
   "execution_count": 3,
   "metadata": {},
   "outputs": [],
   "source": [
    "agrupados=clima.groupby('DATA').agg({\n",
    "    'PRECIPITACAO':['sum','mean'],\n",
    "    'PRESSAO ATMOSFERICA':'mean',\n",
    "    'RADIACAO GLOBAL':'mean',\n",
    "    'TEMPERATURA':['min','max','mean'],\n",
    "    'PONTO DE ORVALHO':'mean',\n",
    "    'UMIDADE RELATIVA DO AR':['min','mean'],\n",
    "    'VELOCIDADE DO VENTO':'mean'\n",
    "})\n",
    "\n",
    "agrupados.columns=['PRECIPITACAO TOTAL','PRECIPITACAO MEDIA','PRESSAO ATMOSFERICA MEDIA','RADIACAO GLOBAL MEDIA','TEMPERATURA MINIMA',\n",
    "'TEMPERATURA MAXIMA','TEMPERATURA MEDIA','PONTO DE ORVALHO MEDIA','UMIDADE RELATIVA DO AR MINIMA','UMIDADE RELATIVA DO AR MEDIA','VELOCIDADE DO VENTO MEDIA']\n",
    "agrupados=agrupados.reset_index()"
   ]
  },
  {
   "cell_type": "markdown",
   "metadata": {},
   "source": [
    "## Carrega arquivo de Focos de incêndio"
   ]
  },
  {
   "cell_type": "markdown",
   "metadata": {},
   "source": [
    "Carrega arquivo de focos de incêndios: cada entrada é um foco de incêndio, contendo a data e hora, e outros dados irrelevantes para nossas análises.\n",
    "\n",
    "Também realiza o ajuste no formato da coluna de data, convertendo de string para date. Também ordena a tabela pela data."
   ]
  },
  {
   "cell_type": "code",
   "execution_count": 4,
   "metadata": {},
   "outputs": [],
   "source": [
    "focos = pd.read_csv(r'Entrada\\Focos_2012_2021.CSV', decimal=\",\", sep=\";\")\n",
    "focos[\"datahora\"] = pd.to_datetime(focos[\"datahora\"]).dt.date\n",
    "\n",
    "focos=focos.groupby(\"datahora\").size().sort_values().reset_index(\"datahora\")\n",
    "focos.columns = [\"DATA\",\"QUANTIDADE FOCOS\"]"
   ]
  },
  {
   "cell_type": "markdown",
   "metadata": {},
   "source": [
    "## Finalizando\n",
    "Junta as duas tabelas em uma única (clima + focos), utilizando a data como chave e concatenando a coluna de quantidade de focos no final"
   ]
  },
  {
   "cell_type": "code",
   "execution_count": 5,
   "metadata": {},
   "outputs": [],
   "source": [
    "merjado = pd.merge(agrupados, focos, on=\"DATA\", how=\"left\")"
   ]
  },
  {
   "cell_type": "markdown",
   "metadata": {},
   "source": [
    "Troca os valores NaN por 0, e cria uma coluna extra, indicando se houve (True) ou não (False) algum foco de incêndio naquela data, e salva como um novo csv."
   ]
  },
  {
   "cell_type": "code",
   "execution_count": 6,
   "metadata": {},
   "outputs": [],
   "source": [
    "import numpy as np\n",
    "merjado[\"QUANTIDADE FOCOS\"] = merjado[\"QUANTIDADE FOCOS\"].fillna(0)\n",
    "merjado[\"OCORREU FOGO\"] = np.where(merjado['QUANTIDADE FOCOS'] > 0, True, False)\n",
    "merjado.to_csv(r'Saida\\dados_finais.csv', index=False)"
   ]
  }
 ],
 "metadata": {
  "kernelspec": {
   "display_name": "Python 3.10.5 64-bit",
   "language": "python",
   "name": "python3"
  },
  "language_info": {
   "codemirror_mode": {
    "name": "ipython",
    "version": 3
   },
   "file_extension": ".py",
   "mimetype": "text/x-python",
   "name": "python",
   "nbconvert_exporter": "python",
   "pygments_lexer": "ipython3",
   "version": "3.10.5"
  },
  "orig_nbformat": 4,
  "vscode": {
   "interpreter": {
    "hash": "26de051ba29f2982a8de78e945f0abaf191376122a1563185a90213a26c5da77"
   }
  }
 },
 "nbformat": 4,
 "nbformat_minor": 2
}
